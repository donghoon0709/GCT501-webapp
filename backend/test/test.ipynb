{
 "cells": [
  {
   "cell_type": "code",
   "execution_count": 3,
   "metadata": {},
   "outputs": [
    {
     "name": "stdout",
     "output_type": "stream",
     "text": [
      "Function calls in loops,  \n",
      "Each step unfolds like petals,  \n",
      "Base case blooms to end.\n"
     ]
    }
   ],
   "source": [
    "from openai import OpenAI\n",
    "from dotenv import load_dotenv\n",
    "\n",
    "load_dotenv()\n",
    "\n",
    "client = OpenAI()\n",
    "\n",
    "completion = client.chat.completions.create(\n",
    "    model=\"gpt-4o-mini\",\n",
    "    messages=[\n",
    "        {\"role\": \"system\", \"content\": \"You are a helpful assistant.\"},\n",
    "        {\n",
    "            \"role\": \"user\",\n",
    "            \"content\": \"Write a haiku about recursion in programming.\"\n",
    "        }\n",
    "    ]\n",
    ")\n",
    "\n",
    "print(completion.choices[0].message.content)"
   ]
  },
  {
   "cell_type": "code",
   "execution_count": 4,
   "metadata": {},
   "outputs": [],
   "source": [
    "from fastapi import FastAPI, HTTPException\n",
    "from fastapi.middleware.cors import CORSMiddleware\n",
    "from pydantic import BaseModel\n",
    "\n",
    "\n",
    "app = FastAPI()\n",
    "\n",
    "app.add_middleware(\n",
    "    CORSMiddleware,\n",
    "    allow_origins=[\"http://localhost:3000\"],\n",
    "    allow_methods=[\"*\"],\n",
    "    allow_headers=[\"*\"],\n",
    ")\n",
    "\n",
    "@app.get(\"/\")\n",
    "async def read_root():\n",
    "    return {\"message\": \"Hello, World!\"}\n",
    "\n",
    "class ChatRequest(BaseModel):\n",
    "    message: str\n",
    "\n",
    "@app.post(\"/chat\")\n",
    "async def chat(request: ChatRequest):\n",
    "    try:\n",
    "        completion = client.chat.completions.create(\n",
    "            model=\"gpt-4o-mini\",\n",
    "            messages=[\n",
    "                {\"role\": \"system\", \"content\": \"You are a helpful assistant.\"},\n",
    "                {\"role\": \"user\", \"content\": request.message}\n",
    "            ]\n",
    "        )\n",
    "        return {\"message\": completion.choices[0].message.content}\n",
    "    except Exception as e:\n",
    "        raise HTTPException(status_code=500, detail=str(e))"
   ]
  },
  {
   "cell_type": "code",
   "execution_count": 2,
   "metadata": {},
   "outputs": [],
   "source": [
    "import requests\n",
    "from reportlab.pdfgen import canvas\n",
    "import os\n",
    "\n",
    "image_url = \"https://oaidalleapiprodscus.blob.core.windows.net/private/org-f1a1lDB5Q9MbSbmMlYR1kpM2/user-wReRipwvX5LTQvALpu9o6efK/img-ZdmK5IyEXj0jJXxouzpe33jY.png?st=2024-12-05T06%3A01%3A23Z&se=2024-12-05T08%3A01%3A23Z&sp=r&sv=2024-08-04&sr=b&rscd=inline&rsct=image/png&skoid=d505667d-d6c1-4a0a-bac7-5c84a87759f8&sktid=a48cca56-e6da-484e-a814-9c849652bcb3&skt=2024-12-05T00%3A22%3A31Z&ske=2024-12-06T00%3A22%3A31Z&sks=b&skv=2024-08-04&sig=sSc/NFfH42HH1WbfaUzOa293QOIIsxCYmBk1uFMx%2BQM%3D\"\n",
    "save_path = \"generated_image.png\"\n",
    "\n",
    "response = requests.get(image_url)\n",
    "if response.status_code == 200:\n",
    "    with open (save_path, 'wb') as file:\n",
    "        file.write (response.content)\n",
    "else:\n",
    "    print(\"failed\")"
   ]
  },
  {
   "cell_type": "code",
   "execution_count": 7,
   "metadata": {},
   "outputs": [
    {
     "name": "stdout",
     "output_type": "stream",
     "text": [
      "PDF created at: output.pdf\n"
     ]
    }
   ],
   "source": [
    "from reportlab.pdfgen import canvas\n",
    "from reportlab.lib.pagesizes import A4\n",
    "from PIL import Image\n",
    "import os\n",
    "\n",
    "def png_to_pdf(sticker_file, photo_file, pdf_file):\n",
    "    # A4 크기\n",
    "    a4_width, a4_height = A4\n",
    "\n",
    "    # Open the PNG file\n",
    "    sticker_img = Image.open(sticker_file)\n",
    "    sticker_width, sticker_height = sticker_img.size\n",
    "\n",
    "    photo_img = Image.open(photo_file)\n",
    "    photo_width, photo_height = photo_img.size\n",
    "\n",
    "    # 비율 계산 (A4에 맞게 축소)\n",
    "    sticker_scale = min(a4_width / sticker_width, a4_height / sticker_height) * 0.9\n",
    "    sticker_new_width = sticker_width * sticker_scale\n",
    "    sticker_new_height = sticker_height * sticker_scale\n",
    "\n",
    "    photo_scale = min(a4_width / photo_width, a4_height / photo_height) * 0.9\n",
    "    photo_new_width = photo_width * photo_scale\n",
    "    photo_new_height = photo_height * photo_scale\n",
    "\n",
    "    # PDF 생성\n",
    "    c = canvas.Canvas(pdf_file, pagesize=A4)\n",
    "\n",
    "    # 이미지 위치 (중앙 정렬)\n",
    "    x = (a4_width - sticker_new_width) / 2\n",
    "    y = a4_height * 0.05\n",
    "    c.drawImage(sticker_file, x, y, width=sticker_new_width, height=sticker_new_height)\n",
    "\n",
    "    x = (a4_width - photo_new_width) / 2\n",
    "    y = a4_height * 0.5\n",
    "    c.drawImage(photo_file, x, y, width=photo_new_width, height=photo_new_height)\n",
    "\n",
    "    # PDF 저장\n",
    "    c.showPage()\n",
    "    c.save()\n",
    "\n",
    "    print(f\"PDF created at: {pdf_file}\")\n",
    "\n",
    "# Example usage\n",
    "sticker_file = \"stickers.png\"\n",
    "photo_file =  \"test.png\"\n",
    "pdf_file = \"output.pdf\"\n",
    "png_to_pdf(sticker_file, photo_file, pdf_file)"
   ]
  },
  {
   "cell_type": "code",
   "execution_count": null,
   "metadata": {},
   "outputs": [
    {
     "name": "stdout",
     "output_type": "stream",
     "text": [
      "요청 id는 Samsung_M2070_Series-50(1개의 파일)\n"
     ]
    }
   ],
   "source": [
    "def print_pdf(pdf_file) :\n",
    "    os.system(f\"lp {pdf_file}\")\n",
    "\n",
    "print_pdf(pdf_file)"
   ]
  },
  {
   "cell_type": "code",
   "execution_count": null,
   "metadata": {},
   "outputs": [
    {
     "name": "stdout",
     "output_type": "stream",
     "text": [
      "Samsung_SL_J1680_series\n",
      "요청 id는 Samsung_SL_J1680_series-68(1개의 파일)\n"
     ]
    },
    {
     "data": {
      "text/plain": [
       "{'message': \"PDF 'stickers.pdf' sent to the default printer successfully.\",\n",
       " 'printers': 'Samsung_SL_J1680_series'}"
      ]
     },
     "execution_count": 4,
     "metadata": {},
     "output_type": "execute_result"
    }
   ],
   "source": [
    "import subprocess\n",
    "# works in macOS\n",
    "def print_sticker():\n",
    "    try:\n",
    "        # PDF 파일 경로\n",
    "        pdf_file = \"stickers.pdf\"\n",
    "\n",
    "        printer = subprocess.check_output([\"lpstat\", \"-d\"], text=True).splitlines()\n",
    "        printer = printer[0].split(':')[1].strip()\n",
    "        print(printer)\n",
    "        \n",
    "        print_command = f\"lp -d {printer} {pdf_file}\"\n",
    "        subprocess.run(print_command, shell=True, check=True)\n",
    "\n",
    "        return {\n",
    "            \"message\": f\"PDF '{pdf_file}' sent to the default printer successfully.\",\n",
    "            \"printers\": printer,\n",
    "        }\n",
    "\n",
    "    except subprocess.CalledProcessError as e:\n",
    "        print(f\"Error occurred while printing: {e}\")\n",
    "        raise HTTPException(status_code=500, detail=f\"Failed to print: {str(e)}\")\n",
    "    except Exception as e:\n",
    "        print(f\"Unexpected error occurred: {e}\")\n",
    "        raise HTTPException(status_code=500, detail=f\"Unexpected error: {str(e)}\")\n",
    "print_sticker()"
   ]
  },
  {
   "cell_type": "markdown",
   "metadata": {},
   "source": []
  },
  {
   "cell_type": "code",
   "execution_count": null,
   "metadata": {},
   "outputs": [],
   "source": []
  }
 ],
 "metadata": {
  "kernelspec": {
   "display_name": "(gct501)",
   "language": "python",
   "name": "gct501"
  },
  "language_info": {
   "codemirror_mode": {
    "name": "ipython",
    "version": 3
   },
   "file_extension": ".py",
   "mimetype": "text/x-python",
   "name": "python",
   "nbconvert_exporter": "python",
   "pygments_lexer": "ipython3",
   "version": "3.13.0"
  }
 },
 "nbformat": 4,
 "nbformat_minor": 2
}
